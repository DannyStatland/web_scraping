{
 "cells": [
  {
   "cell_type": "markdown",
   "id": "3e9741f2",
   "metadata": {},
   "source": [
    "In this short project I use Selenium to scrape and clean the text from this HTML page: \n",
    "https://www.fool.com/earnings/call-transcripts/2021/11/03/kaltura-inc-kltr-q3-2021-earnings-call-transcript/\n",
    "\n",
    "This page contains an earnings call transcript between a company (Kultura - traded on NASDAQ as KLTR) and Wall-Street's analysts for the 3rd quarter of 2021.\n",
    "\n",
    "Further, I split the earning call into 2 text files (using a python script): 1. What is the company saying and its answers to analysts questions (without who said it). 2. Questions of the analysts.\n",
    "\n",
    "This is a general script that will be able to work with any such earning call."
   ]
  },
  {
   "cell_type": "code",
   "execution_count": 1,
   "id": "3f35332f",
   "metadata": {},
   "outputs": [
    {
     "data": {
      "text/plain": [
       "'/Library/Frameworks/Python.framework/Versions/3.10/lib/python3.10/site-packages/chromedriver_autoinstaller/98/chromedriver'"
      ]
     },
     "execution_count": 1,
     "metadata": {},
     "output_type": "execute_result"
    }
   ],
   "source": [
    "import chromedriver_autoinstaller\n",
    "\n",
    "\n",
    "chromedriver_autoinstaller.install()"
   ]
  },
  {
   "cell_type": "code",
   "execution_count": 2,
   "id": "105aa886",
   "metadata": {},
   "outputs": [
    {
     "name": "stdout",
     "output_type": "stream",
     "text": [
      "Requirement already satisfied: selenium in /Library/Frameworks/Python.framework/Versions/3.10/lib/python3.10/site-packages (4.1.0)\n",
      "Requirement already satisfied: trio-websocket~=0.9 in /Library/Frameworks/Python.framework/Versions/3.10/lib/python3.10/site-packages (from selenium) (0.9.2)\n",
      "Requirement already satisfied: urllib3[secure]~=1.26 in /Library/Frameworks/Python.framework/Versions/3.10/lib/python3.10/site-packages (from selenium) (1.26.8)\n",
      "Requirement already satisfied: trio~=0.17 in /Library/Frameworks/Python.framework/Versions/3.10/lib/python3.10/site-packages (from selenium) (0.19.0)\n",
      "Requirement already satisfied: async-generator>=1.9 in /Library/Frameworks/Python.framework/Versions/3.10/lib/python3.10/site-packages (from trio~=0.17->selenium) (1.10)\n",
      "Requirement already satisfied: outcome in /Library/Frameworks/Python.framework/Versions/3.10/lib/python3.10/site-packages (from trio~=0.17->selenium) (1.1.0)\n",
      "Requirement already satisfied: sniffio in /Library/Frameworks/Python.framework/Versions/3.10/lib/python3.10/site-packages (from trio~=0.17->selenium) (1.2.0)\n",
      "Requirement already satisfied: attrs>=19.2.0 in /Library/Frameworks/Python.framework/Versions/3.10/lib/python3.10/site-packages (from trio~=0.17->selenium) (21.4.0)\n",
      "Requirement already satisfied: idna in /Library/Frameworks/Python.framework/Versions/3.10/lib/python3.10/site-packages (from trio~=0.17->selenium) (3.3)\n",
      "Requirement already satisfied: sortedcontainers in /Library/Frameworks/Python.framework/Versions/3.10/lib/python3.10/site-packages (from trio~=0.17->selenium) (2.4.0)\n",
      "Requirement already satisfied: wsproto>=0.14 in /Library/Frameworks/Python.framework/Versions/3.10/lib/python3.10/site-packages (from trio-websocket~=0.9->selenium) (1.0.0)\n",
      "Requirement already satisfied: pyOpenSSL>=0.14 in /Library/Frameworks/Python.framework/Versions/3.10/lib/python3.10/site-packages (from urllib3[secure]~=1.26->selenium) (21.0.0)\n",
      "Requirement already satisfied: certifi in /Library/Frameworks/Python.framework/Versions/3.10/lib/python3.10/site-packages (from urllib3[secure]~=1.26->selenium) (2021.10.8)\n",
      "Requirement already satisfied: cryptography>=1.3.4 in /Library/Frameworks/Python.framework/Versions/3.10/lib/python3.10/site-packages (from urllib3[secure]~=1.26->selenium) (36.0.1)\n",
      "Requirement already satisfied: cffi>=1.12 in /Library/Frameworks/Python.framework/Versions/3.10/lib/python3.10/site-packages (from cryptography>=1.3.4->urllib3[secure]~=1.26->selenium) (1.15.0)\n",
      "Requirement already satisfied: six>=1.5.2 in /Library/Frameworks/Python.framework/Versions/3.10/lib/python3.10/site-packages (from pyOpenSSL>=0.14->urllib3[secure]~=1.26->selenium) (1.16.0)\n",
      "Requirement already satisfied: h11<1,>=0.9.0 in /Library/Frameworks/Python.framework/Versions/3.10/lib/python3.10/site-packages (from wsproto>=0.14->trio-websocket~=0.9->selenium) (0.13.0)\n",
      "Requirement already satisfied: pycparser in /Library/Frameworks/Python.framework/Versions/3.10/lib/python3.10/site-packages (from cffi>=1.12->cryptography>=1.3.4->urllib3[secure]~=1.26->selenium) (2.21)\n",
      "\u001b[33mWARNING: You are using pip version 21.3.1; however, version 22.0.3 is available.\n",
      "You should consider upgrading via the '/Library/Frameworks/Python.framework/Versions/3.10/bin/python3.10 -m pip install --upgrade pip' command.\u001b[0m\n",
      "Note: you may need to restart the kernel to use updated packages.\n"
     ]
    }
   ],
   "source": [
    "%pip install selenium\n",
    "from selenium import webdriver\n",
    "from selenium.webdriver.common.by import By\n",
    "\n",
    "SELENIUM_URL = 'http://127.0.0.1:4444/wd/hub'\n",
    "EARNINGS_URL = 'https://www.fool.com/earnings/call-transcripts/2021/11/03/kaltura-inc-kltr-q3-2021-earnings-call-transcript/'\n",
    "\n",
    "def get_earnings():    \n",
    "    browser = webdriver.Chrome(options=webdriver.ChromeOptions())\n",
    "    \n",
    "    browser.maximize_window()\n",
    "    browser.implicitly_wait(10)\n",
    "\n",
    "    browser.get(EARNINGS_URL)\n",
    "\n",
    "    # Find element with article-content class\n",
    "    article_content = browser.find_element(By.CLASS_NAME, \"article-content\")\n",
    "    # Find h2 element with text \"Prepared Remarks\" as starting point for parsing company remarks\n",
    "    prepared_remarks = article_content.find_element(By.XPATH, \"./h2[text()='Prepared Remarks:']\")\n",
    "    # Find each of prepared_remarks' siblings that come after it which are:\n",
    "    # * <p> elements\n",
    "    # * don't contain the <strong> tag\n",
    "    # * aren't preceded by a <p> with <strong> with the text \"Operator\"\n",
    "    # Then stop once the next <h2> element is reached (Q&A starts)\n",
    "    statements = prepared_remarks.find_elements(By.XPATH, \"./following-sibling::p[not(strong) and preceding-sibling::p[strong][1][text()!='Operator'] and count(preceding-sibling::h2)=2]\")\n",
    "    # Add the text from each statement to a list (only if it contains any content)\n",
    "    statements_text = [statement.text for statement in statements if len(statement.text.strip())]\n",
    "\n",
    "    # Find h2 element with text \"Questions & Answers\" as starting point for parsing Q&A\n",
    "    questions_answers = article_content.find_element(By.XPATH, \"./h2[text()='Questions & Answers:']\")\n",
    "    # Find each of questions_answers' siblings that come after it which are:\n",
    "    # * <p> elements\n",
    "    # * don't contain the strong tag\n",
    "    # * aren't preceded by a <p> with <strong> with the text \"Operator\"\n",
    "    # * For questions we look for text from a speaker with the word \"Analyst\" in their name\n",
    "    # * For answers we look for text from a speaker without the word \"Analyst\" in their name\n",
    "    questions = questions_answers.find_elements(By.XPATH, \"./following-sibling::p[not(strong) and preceding-sibling::p[strong and em][1][not(contains(strong/text(), 'Operator')) and contains(em/text(), 'Analyst')]]\")\n",
    "    # Save text property for each question element to a new list\n",
    "    questions_text = [question.text for question in questions if len(question.text.strip())]\n",
    "    answers = questions_answers.find_elements(By.XPATH, \"./following-sibling::p[not(strong) and preceding-sibling::p[strong and em][1][not(contains(strong/text(), 'Operator')) and not(contains(text(), 'Analyst'))]]\")\n",
    "    # Save text property for each answer element to a new list\n",
    "    answers_text = [answer.text for answer in answers if len(answer.text.strip())]\n",
    "    with open(\"company.txt\", \"w\") as company:\n",
    "        company.write(\"\\r\\n\".join(statements_text + answers_text))\n",
    "\n",
    "    with open(\"questions.txt\", \"w\") as questions:\n",
    "        questions.write(\"\\r\\n\".join(questions_text))\n",
    "\n",
    "    browser.close()\n",
    "    browser.quit()\n",
    "\n",
    "\n",
    "get_earnings()\n"
   ]
  },
  {
   "cell_type": "code",
   "execution_count": null,
   "id": "516b6520",
   "metadata": {},
   "outputs": [],
   "source": []
  },
  {
   "cell_type": "code",
   "execution_count": null,
   "id": "4b01d59e",
   "metadata": {},
   "outputs": [],
   "source": []
  }
 ],
 "metadata": {
  "kernelspec": {
   "display_name": "Python 3 (ipykernel)",
   "language": "python",
   "name": "python3"
  },
  "language_info": {
   "codemirror_mode": {
    "name": "ipython",
    "version": 3
   },
   "file_extension": ".py",
   "mimetype": "text/x-python",
   "name": "python",
   "nbconvert_exporter": "python",
   "pygments_lexer": "ipython3",
   "version": "3.10.0"
  }
 },
 "nbformat": 4,
 "nbformat_minor": 5
}
